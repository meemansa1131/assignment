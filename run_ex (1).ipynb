{
 "cells": [
  {
   "cell_type": "code",
   "execution_count": 1,
   "id": "4d4baf43-4d0d-445b-824a-cd4634003ef6",
   "metadata": {
    "tags": []
   },
   "outputs": [
    {
     "name": "stdout",
     "output_type": "stream",
     "text": [
      "Collecting torch\n",
      "  Downloading torch-1.13.1-cp39-cp39-win_amd64.whl (162.5 MB)\n",
      "     -------------------------------------- 162.5/162.5 MB 4.9 MB/s eta 0:00:00\n",
      "Collecting imgaug\n",
      "  Downloading imgaug-0.4.0-py2.py3-none-any.whl (948 kB)\n",
      "     ------------------------------------- 948.0/948.0 kB 10.0 MB/s eta 0:00:00\n",
      "Requirement already satisfied: typing-extensions in c:\\users\\acer\\appdata\\local\\programs\\python\\python39\\lib\\site-packages (from torch) (4.2.0)\n",
      "Collecting Shapely\n",
      "  Downloading shapely-2.0.1-cp39-cp39-win_amd64.whl (1.4 MB)\n",
      "     ---------------------------------------- 1.4/1.4 MB 8.7 MB/s eta 0:00:00\n",
      "Requirement already satisfied: six in c:\\users\\acer\\appdata\\local\\programs\\python\\python39\\lib\\site-packages (from imgaug) (1.15.0)\n",
      "Requirement already satisfied: imageio in c:\\users\\acer\\appdata\\local\\programs\\python\\python39\\lib\\site-packages (from imgaug) (2.19.3)\n",
      "Requirement already satisfied: matplotlib in c:\\users\\acer\\appdata\\local\\programs\\python\\python39\\lib\\site-packages (from imgaug) (3.5.1)\n",
      "Requirement already satisfied: Pillow in c:\\users\\acer\\appdata\\local\\programs\\python\\python39\\lib\\site-packages (from imgaug) (9.1.0)\n",
      "Requirement already satisfied: numpy>=1.15 in c:\\users\\acer\\appdata\\local\\programs\\python\\python39\\lib\\site-packages (from imgaug) (1.22.3)\n",
      "Requirement already satisfied: opencv-python in c:\\users\\acer\\appdata\\local\\programs\\python\\python39\\lib\\site-packages (from imgaug) (4.6.0.66)\n",
      "Requirement already satisfied: scikit-image>=0.14.2 in c:\\users\\acer\\appdata\\local\\programs\\python\\python39\\lib\\site-packages (from imgaug) (0.19.3)\n",
      "Requirement already satisfied: scipy in c:\\users\\acer\\appdata\\local\\programs\\python\\python39\\lib\\site-packages (from imgaug) (1.8.0)\n",
      "Requirement already satisfied: packaging>=20.0 in c:\\users\\acer\\appdata\\local\\programs\\python\\python39\\lib\\site-packages (from scikit-image>=0.14.2->imgaug) (20.4)\n",
      "Requirement already satisfied: networkx>=2.2 in c:\\users\\acer\\appdata\\local\\programs\\python\\python39\\lib\\site-packages (from scikit-image>=0.14.2->imgaug) (2.8.4)\n",
      "Requirement already satisfied: tifffile>=2019.7.26 in c:\\users\\acer\\appdata\\local\\programs\\python\\python39\\lib\\site-packages (from scikit-image>=0.14.2->imgaug) (2022.5.4)\n",
      "Requirement already satisfied: PyWavelets>=1.1.1 in c:\\users\\acer\\appdata\\local\\programs\\python\\python39\\lib\\site-packages (from scikit-image>=0.14.2->imgaug) (1.3.0)\n",
      "Requirement already satisfied: python-dateutil>=2.7 in c:\\users\\acer\\appdata\\local\\programs\\python\\python39\\lib\\site-packages (from matplotlib->imgaug) (2.8.2)\n",
      "Requirement already satisfied: fonttools>=4.22.0 in c:\\users\\acer\\appdata\\local\\programs\\python\\python39\\lib\\site-packages (from matplotlib->imgaug) (4.31.2)\n",
      "Requirement already satisfied: cycler>=0.10 in c:\\users\\acer\\appdata\\local\\programs\\python\\python39\\lib\\site-packages (from matplotlib->imgaug) (0.11.0)\n",
      "Requirement already satisfied: pyparsing>=2.2.1 in c:\\users\\acer\\appdata\\local\\programs\\python\\python39\\lib\\site-packages (from matplotlib->imgaug) (2.4.7)\n",
      "Requirement already satisfied: kiwisolver>=1.0.1 in c:\\users\\acer\\appdata\\local\\programs\\python\\python39\\lib\\site-packages (from matplotlib->imgaug) (1.4.2)\n",
      "Installing collected packages: torch, Shapely, imgaug\n",
      "Successfully installed Shapely-2.0.1 imgaug-0.4.0 torch-1.13.1\n"
     ]
    },
    {
     "name": "stderr",
     "output_type": "stream",
     "text": [
      "\n",
      "[notice] A new release of pip available: 22.2.2 -> 23.0\n",
      "[notice] To update, run: python.exe -m pip install --upgrade pip\n"
     ]
    }
   ],
   "source": [
    "!pip install torch imgaug"
   ]
  },
  {
   "cell_type": "code",
   "execution_count": 2,
   "id": "b7bc1b8d-9391-456d-a1b1-ad1eeb05d427",
   "metadata": {},
   "outputs": [],
   "source": [
    "import os\n",
    "import subprocess\n",
    "import zipfile\n",
    "import numpy as np\n",
    "import torch\n",
    "import uptrain\n",
    "\n",
    "from helper_files import read_json, KpsDataset\n",
    "from helper_files import body_length_signal, plot_all_cluster"
   ]
  },
  {
   "cell_type": "code",
   "execution_count": 5,
   "id": "6042adb4-6fbc-47db-b432-1706c2ea51ec",
   "metadata": {},
   "outputs": [
    {
     "name": "stdout",
     "output_type": "stream",
     "text": [
      "Example dataset already present\n"
     ]
    }
   ],
   "source": [
    "data_dir = \"data\"\n",
    "remote_url = \"https://oodles-dev-training-data.s3.amazonaws.com/data.zip\"\n",
    "orig_training_file = 'data/training_data.json'\n",
    "if not os.path.exists(data_dir):\n",
    "    print(\"Starting to download example dataset...\")\n",
    "    try:\n",
    "        # Most Linux distributions have Wget installed by default.\n",
    "        # Below command is to install wget for MacOS\n",
    "        wget_installed_ok = subprocess.call(\"brew install wget\", shell=True, stdout=subprocess.DEVNULL, stderr=subprocess.STDOUT)\n",
    "        print(\"Successfully installed wget\")\n",
    "    except:\n",
    "        dummy = 1\n",
    "    try:\n",
    "        if not os.path.exists(\"data.zip\"):\n",
    "            file_downloaded_ok = subprocess.call(\"wget \" + remote_url, shell=True, stdout=subprocess.DEVNULL, stderr=subprocess.STDOUT)\n",
    "            print(\"Data downloaded\")\n",
    "        with zipfile.ZipFile(\"data.zip\", 'r') as zip_ref:\n",
    "            zip_ref.extractall(\"./\")\n",
    "        print(\"Prepared Example Dataset\")\n",
    "        os.remove(\"data.zip\")\n",
    "    except Exception as e:\n",
    "        print(e)\n",
    "        print(\"Could not load training data\")\n",
    "        print(\"Please follow following steps to manually download data\")\n",
    "        print(\"Step 1: Paste the link https://oodles-dev-training-data.s3.amazonaws.com/data.zip in your browser\")\n",
    "        print(\"Step 2: Once the zip file is downloaded, unzip it here (i.e. YOUR_LOC/uptrain/examples/1_orientation_classification/\")\n",
    "else:\n",
    "    print(\"Example dataset already present\")"
   ]
  },
  {
   "cell_type": "code",
   "execution_count": 6,
   "id": "593feeeb-c234-4689-bb15-57aceb762a2d",
   "metadata": {},
   "outputs": [
    {
     "data": {
      "text/html": [
       "<div>\n",
       "<style scoped>\n",
       "    .dataframe tbody tr th:only-of-type {\n",
       "        vertical-align: middle;\n",
       "    }\n",
       "\n",
       "    .dataframe tbody tr th {\n",
       "        vertical-align: top;\n",
       "    }\n",
       "\n",
       "    .dataframe thead th {\n",
       "        text-align: right;\n",
       "    }\n",
       "</style>\n",
       "<table border=\"1\" class=\"dataframe\">\n",
       "  <thead>\n",
       "    <tr style=\"text-align: right;\">\n",
       "      <th></th>\n",
       "      <th>id</th>\n",
       "      <th>gt</th>\n",
       "      <th>Nose_X</th>\n",
       "      <th>Nose_Y</th>\n",
       "      <th>Left_Eye_X</th>\n",
       "      <th>Left_Eye_Y</th>\n",
       "      <th>Right_Eye_X</th>\n",
       "      <th>Right_Eye_Y</th>\n",
       "      <th>Left_Ear_X</th>\n",
       "      <th>Left_Ear_Y</th>\n",
       "      <th>...</th>\n",
       "      <th>Right_Hip_X</th>\n",
       "      <th>Right_Hip_Y</th>\n",
       "      <th>Left_Knee_X</th>\n",
       "      <th>Left_Knee_Y</th>\n",
       "      <th>Right_Knee_X</th>\n",
       "      <th>Right_Knee_Y</th>\n",
       "      <th>Left_Ankle_X</th>\n",
       "      <th>Left_Ankle_Y</th>\n",
       "      <th>Right_Ankle_X</th>\n",
       "      <th>Right_Ankle_Y</th>\n",
       "    </tr>\n",
       "  </thead>\n",
       "  <tbody>\n",
       "    <tr>\n",
       "      <th>0</th>\n",
       "      <td>12002202098</td>\n",
       "      <td>1</td>\n",
       "      <td>536.832198</td>\n",
       "      <td>175.195562</td>\n",
       "      <td>275.183835</td>\n",
       "      <td>299.200492</td>\n",
       "      <td>321.438219</td>\n",
       "      <td>53.586762</td>\n",
       "      <td>438.831630</td>\n",
       "      <td>196.469141</td>\n",
       "      <td>...</td>\n",
       "      <td>355.320493</td>\n",
       "      <td>352.771307</td>\n",
       "      <td>282.603256</td>\n",
       "      <td>245.372110</td>\n",
       "      <td>-71.727270</td>\n",
       "      <td>148.854694</td>\n",
       "      <td>377.204408</td>\n",
       "      <td>118.812093</td>\n",
       "      <td>368.630415</td>\n",
       "      <td>32.683708</td>\n",
       "    </tr>\n",
       "    <tr>\n",
       "      <th>1</th>\n",
       "      <td>11004300163</td>\n",
       "      <td>1</td>\n",
       "      <td>127.299427</td>\n",
       "      <td>213.304615</td>\n",
       "      <td>120.006179</td>\n",
       "      <td>213.098156</td>\n",
       "      <td>119.749502</td>\n",
       "      <td>220.877945</td>\n",
       "      <td>123.240242</td>\n",
       "      <td>213.496218</td>\n",
       "      <td>...</td>\n",
       "      <td>282.739062</td>\n",
       "      <td>217.173672</td>\n",
       "      <td>331.887746</td>\n",
       "      <td>122.399542</td>\n",
       "      <td>369.934428</td>\n",
       "      <td>153.331971</td>\n",
       "      <td>407.764187</td>\n",
       "      <td>54.115847</td>\n",
       "      <td>373.738996</td>\n",
       "      <td>228.353284</td>\n",
       "    </tr>\n",
       "    <tr>\n",
       "      <th>2</th>\n",
       "      <td>18100208242</td>\n",
       "      <td>0</td>\n",
       "      <td>342.735809</td>\n",
       "      <td>75.173884</td>\n",
       "      <td>347.639763</td>\n",
       "      <td>69.066162</td>\n",
       "      <td>337.646757</td>\n",
       "      <td>69.463328</td>\n",
       "      <td>354.332650</td>\n",
       "      <td>70.183796</td>\n",
       "      <td>...</td>\n",
       "      <td>327.693125</td>\n",
       "      <td>175.678139</td>\n",
       "      <td>373.687116</td>\n",
       "      <td>236.403840</td>\n",
       "      <td>330.044019</td>\n",
       "      <td>238.719585</td>\n",
       "      <td>383.867725</td>\n",
       "      <td>289.895923</td>\n",
       "      <td>335.013380</td>\n",
       "      <td>292.018822</td>\n",
       "    </tr>\n",
       "    <tr>\n",
       "      <th>3</th>\n",
       "      <td>18100204340</td>\n",
       "      <td>0</td>\n",
       "      <td>335.262419</td>\n",
       "      <td>161.525842</td>\n",
       "      <td>340.358734</td>\n",
       "      <td>155.666068</td>\n",
       "      <td>329.570863</td>\n",
       "      <td>154.843509</td>\n",
       "      <td>347.034712</td>\n",
       "      <td>154.827196</td>\n",
       "      <td>...</td>\n",
       "      <td>316.727216</td>\n",
       "      <td>218.696415</td>\n",
       "      <td>375.741803</td>\n",
       "      <td>250.993843</td>\n",
       "      <td>285.306140</td>\n",
       "      <td>252.504808</td>\n",
       "      <td>384.364024</td>\n",
       "      <td>298.382275</td>\n",
       "      <td>275.523553</td>\n",
       "      <td>298.044853</td>\n",
       "    </tr>\n",
       "    <tr>\n",
       "      <th>4</th>\n",
       "      <td>12100104261</td>\n",
       "      <td>0</td>\n",
       "      <td>255.488160</td>\n",
       "      <td>62.442478</td>\n",
       "      <td>256.765451</td>\n",
       "      <td>58.603055</td>\n",
       "      <td>251.489867</td>\n",
       "      <td>58.323107</td>\n",
       "      <td>255.327531</td>\n",
       "      <td>55.634296</td>\n",
       "      <td>...</td>\n",
       "      <td>235.763698</td>\n",
       "      <td>136.902009</td>\n",
       "      <td>277.832912</td>\n",
       "      <td>177.679435</td>\n",
       "      <td>229.566259</td>\n",
       "      <td>191.052507</td>\n",
       "      <td>284.397434</td>\n",
       "      <td>213.477405</td>\n",
       "      <td>224.158806</td>\n",
       "      <td>239.154790</td>\n",
       "    </tr>\n",
       "  </tbody>\n",
       "</table>\n",
       "<p>5 rows × 36 columns</p>\n",
       "</div>"
      ],
      "text/plain": [
       "            id  gt      Nose_X      Nose_Y  Left_Eye_X  Left_Eye_Y  \\\n",
       "0  12002202098   1  536.832198  175.195562  275.183835  299.200492   \n",
       "1  11004300163   1  127.299427  213.304615  120.006179  213.098156   \n",
       "2  18100208242   0  342.735809   75.173884  347.639763   69.066162   \n",
       "3  18100204340   0  335.262419  161.525842  340.358734  155.666068   \n",
       "4  12100104261   0  255.488160   62.442478  256.765451   58.603055   \n",
       "\n",
       "   Right_Eye_X  Right_Eye_Y  Left_Ear_X  Left_Ear_Y  ...  Right_Hip_X  \\\n",
       "0   321.438219    53.586762  438.831630  196.469141  ...   355.320493   \n",
       "1   119.749502   220.877945  123.240242  213.496218  ...   282.739062   \n",
       "2   337.646757    69.463328  354.332650   70.183796  ...   327.693125   \n",
       "3   329.570863   154.843509  347.034712  154.827196  ...   316.727216   \n",
       "4   251.489867    58.323107  255.327531   55.634296  ...   235.763698   \n",
       "\n",
       "   Right_Hip_Y  Left_Knee_X  Left_Knee_Y  Right_Knee_X  Right_Knee_Y  \\\n",
       "0   352.771307   282.603256   245.372110    -71.727270    148.854694   \n",
       "1   217.173672   331.887746   122.399542    369.934428    153.331971   \n",
       "2   175.678139   373.687116   236.403840    330.044019    238.719585   \n",
       "3   218.696415   375.741803   250.993843    285.306140    252.504808   \n",
       "4   136.902009   277.832912   177.679435    229.566259    191.052507   \n",
       "\n",
       "   Left_Ankle_X  Left_Ankle_Y  Right_Ankle_X  Right_Ankle_Y  \n",
       "0    377.204408    118.812093     368.630415      32.683708  \n",
       "1    407.764187     54.115847     373.738996     228.353284  \n",
       "2    383.867725    289.895923     335.013380     292.018822  \n",
       "3    384.364024    298.382275     275.523553     298.044853  \n",
       "4    284.397434    213.477405     224.158806     239.154790  \n",
       "\n",
       "[5 rows x 36 columns]"
      ]
     },
     "execution_count": 6,
     "metadata": {},
     "output_type": "execute_result"
    }
   ],
   "source": [
    "# Training data\n",
    "training_file = 'data/training_data.json'\n",
    "\n",
    "# A testing dataset to evaluate model performance\n",
    "golden_testing_file = 'data/golden_testing_data.json'\n",
    "\n",
    "# The data-points which the models sees in production\n",
    "real_world_test_cases = 'data/real_world_testing_data.json'\n",
    "\n",
    "# To annotate the collected data points, we extract the ground truth from a master annotation file \n",
    "# (we can also import from any other annotation pipelines such as an annotation job on Mechanical turk).\n",
    "annotation_args = {'master_file': 'data/master_annotation_data.json'}\n",
    "\n",
    "# Let's visualize some of the training examples\n",
    "training_data = read_json(training_file, dataframe=True)\n",
    "training_data.head()"
   ]
  },
  {
   "cell_type": "code",
   "execution_count": 7,
   "id": "d4b638e3-ccb4-431d-8716-10d5f7a87be2",
   "metadata": {},
   "outputs": [
    {
     "name": "stdout",
     "output_type": "stream",
     "text": [
      "Training on:  data/training_data.json  which has  1000  data-points\n",
      "Epoch 0: Loss 6.108190503331922\n",
      "Epoch 1: Loss 1.543215388148148\n",
      "Epoch 2: Loss 0.9718632487262855\n",
      "Epoch 3: Loss 0.7866230373424075\n",
      "Epoch 4: Loss 0.5675198829147949\n",
      "Epoch 5: Loss 0.5176476627772758\n",
      "Epoch 6: Loss 0.3886559758861546\n",
      "Epoch 7: Loss 0.4058310666466952\n",
      "Epoch 8: Loss 0.2512015374009751\n",
      "Epoch 9: Loss 0.3784226498949533\n",
      "Model saved at:  trained_models_torch/version_0\n"
     ]
    }
   ],
   "source": [
    "from helper_files import get_accuracy_torch, train_model_torch, BinaryClassification\n",
    "train_model_torch(training_file, 'version_0')"
   ]
  },
  {
   "cell_type": "code",
   "execution_count": 8,
   "id": "7c702c61-7c58-4cf2-8cd2-a7c1d7eee4fd",
   "metadata": {},
   "outputs": [
    {
     "name": "stdout",
     "output_type": "stream",
     "text": [
      "Evaluating model: version_0  on  15731  data-points\n"
     ]
    },
    {
     "data": {
      "text/plain": [
       "0.9289937066937893"
      ]
     },
     "execution_count": 8,
     "metadata": {},
     "output_type": "execute_result"
    }
   ],
   "source": [
    "get_accuracy_torch(golden_testing_file, 'version_0')"
   ]
  },
  {
   "cell_type": "code",
   "execution_count": 10,
   "id": "bece8359-fedb-4137-b601-df35b10b4266",
   "metadata": {},
   "outputs": [
    {
     "name": "stdout",
     "output_type": "stream",
     "text": [
      "Data Drift checks:  [{'type': <Anomaly.DATA_DRIFT: 'data_drift'>, 'reference_dataset': 'data/training_data.json', 'is_embedding': True, 'measurable_args': {'type': <MeasurableType.INPUT_FEATURE: 'input_feature'>, 'feature_name': 'kps'}}]\n"
     ]
    }
   ],
   "source": [
    "checks = [{\n",
    "        'type': uptrain.Anomaly.DATA_DRIFT,\n",
    "        'reference_dataset': orig_training_file,\n",
    "        'is_embedding': True,\n",
    "        \"measurable_args\": {\n",
    "            'type': uptrain.MeasurableType.INPUT_FEATURE,\n",
    "            'feature_name': 'kps'   # keypoints\n",
    "        },\n",
    "    }]\n",
    "\n",
    "print(\"Data Drift checks: \", checks)"
   ]
  },
  {
   "cell_type": "code",
   "execution_count": 11,
   "id": "ed0a2a97-26b8-46ca-9bea-3ed398f15bae",
   "metadata": {},
   "outputs": [
    {
     "name": "stdout",
     "output_type": "stream",
     "text": [
      "Training Pipelines:  {'annotation_method': {'method': <AnnotationMethod.MASTER_FILE: 1>, 'args': {'master_file': 'data/master_annotation_data.json'}}, 'training_func': <function train_model_torch at 0x000002C94DB11430>, 'orig_training_file': 'data/training_data.json'} \n",
      "\n",
      "Evaluation Pipelines:  {'inference_func': <function get_accuracy_torch at 0x000002C94DB111F0>, 'golden_testing_dataset': 'data/golden_testing_data.json'}\n"
     ]
    }
   ],
   "source": [
    "# Define the training pipeline to annotate collected edge cases and retrain the model automatically\n",
    "training_args = {\n",
    "    \"annotation_method\": {\"method\": uptrain.AnnotationMethod.MASTER_FILE, \"args\": annotation_args}, \n",
    "    \"training_func\": train_model_torch, \n",
    "    \"orig_training_file\": orig_training_file,\n",
    "}\n",
    "\n",
    "# Define evaluation pipeline to test retrained model against original model\n",
    "evaluation_args = {\n",
    "    \"inference_func\": get_accuracy_torch,\n",
    "    \"golden_testing_dataset\": golden_testing_file,\n",
    "}\n",
    "\n",
    "print(\"Training Pipelines: \", training_args, \"\\n\")\n",
    "print(\"Evaluation Pipelines: \", evaluation_args)"
   ]
  },
  {
   "cell_type": "code",
   "execution_count": 12,
   "id": "8e8a6c8d-53ab-4f83-8b3a-545a8a56efbc",
   "metadata": {},
   "outputs": [
    {
     "name": "stdout",
     "output_type": "stream",
     "text": [
      "Successfully Initialized UpTrain Framework\n"
     ]
    }
   ],
   "source": [
    "cfg = {\n",
    "    \"checks\": checks, \n",
    "    \"training_args\": training_args,\n",
    "    \"evaluation_args\": evaluation_args,\n",
    "\n",
    "    # Retrain when 200 datapoints are collected in the retraining dataset\n",
    "    \"retrain_after\": 200,\n",
    "    \n",
    "    # A local folder to store the retraining dataset\n",
    "    \"retraining_folder\": \"uptrain_smart_data\",\n",
    "    \n",
    "    # A function to visualize clusters in the data\n",
    "    \"cluster_visualize_func\": plot_all_cluster,\n",
    "}\n",
    "\n",
    "# Initialize the UpTrain framework object with config \n",
    "framework = uptrain.Framework(cfg)\n",
    "print(\"Successfully Initialized UpTrain Framework\")"
   ]
  },
  {
   "cell_type": "code",
   "execution_count": 13,
   "id": "efe16e4f-8a6e-4bb6-8bb7-e31e7769df40",
   "metadata": {},
   "outputs": [
    {
     "name": "stdout",
     "output_type": "stream",
     "text": [
      "50  edge cases identified out of  13424  total samples\n",
      "101  edge cases identified out of  15792  total samples\n",
      "150  edge cases identified out of  24128  total samples\n",
      "200  edge cases identified out of  26608  total samples\n",
      "\n",
      "Kicking off re-training\n",
      "Creating retraining dataset: uptrain_smart_data\\1/training_dataset.json  by merging  data/training_data.json  and collected edge cases.\n",
      "\n",
      "Training on:  uptrain_smart_data\\1/training_dataset.json  which has  2005  data-points\n",
      "Epoch 0: Loss 6.547668935537338\n",
      "Epoch 1: Loss 2.0966730518441907\n",
      "Epoch 2: Loss 0.9921911038540454\n",
      "Epoch 3: Loss 0.5552357879825879\n",
      "Epoch 4: Loss 0.3871322223683595\n",
      "Epoch 5: Loss 0.28291741295483325\n",
      "Epoch 6: Loss 0.2265821895140971\n",
      "Epoch 7: Loss 0.1783209576342085\n",
      "Epoch 8: Loss 0.11531237676203318\n",
      "Epoch 9: Loss 0.13162714021632768\n",
      "Model saved at:  trained_models_torch/version_1\n",
      "Model retraining done...\n",
      "\n",
      "Generating comparison report...\n",
      "Evaluating model: version_0  on  15731  data-points\n",
      "Evaluating model: version_1  on  15731  data-points\n",
      "---------------------------------------------\n",
      "---------------------------------------------\n",
      "Old model accuracy:  0.9289937066937893\n",
      "Retrained model accuracy (ie 201 smartly collected data-points added):  0.9838535376009154\n",
      "---------------------------------------------\n",
      "---------------------------------------------\n"
     ]
    }
   ],
   "source": [
    "inference_batch_size = 16\n",
    "model_dir = 'trained_models_torch/'\n",
    "model_save_name = 'version_0'\n",
    "real_world_dataset = KpsDataset(\n",
    "    real_world_test_cases, batch_size=inference_batch_size, is_test=True\n",
    ")\n",
    "model = BinaryClassification()\n",
    "model.load_state_dict(torch.load(model_dir + model_save_name))\n",
    "model.eval()\n",
    "\n",
    "for i,elem in enumerate(real_world_dataset):\n",
    "\n",
    "    # Do model prediction\n",
    "    inputs = {\"data\": {\"kps\": elem[0][\"kps\"]}, \"id\": elem[0][\"id\"]}\n",
    "    x_test = torch.tensor(inputs[\"data\"][\"kps\"]).type(torch.float)\n",
    "    test_logits = model(x_test).squeeze() \n",
    "    preds = torch.round(torch.sigmoid(test_logits)).detach().numpy()\n",
    "\n",
    "    # Log model inputs and outputs to the uptrain Framework to monitor data drift\n",
    "    idens = framework.log(inputs=inputs, outputs=preds)\n",
    "\n",
    "    # Retrain only once\n",
    "    if framework.version > 1:\n",
    "        break"
   ]
  },
  {
   "cell_type": "code",
   "execution_count": null,
   "id": "42e28732-aa2f-496a-94e1-7124913b673b",
   "metadata": {},
   "outputs": [],
   "source": []
  }
 ],
 "metadata": {
  "kernelspec": {
   "display_name": "Python 3 (ipykernel)",
   "language": "python",
   "name": "python3"
  },
  "language_info": {
   "codemirror_mode": {
    "name": "ipython",
    "version": 3
   },
   "file_extension": ".py",
   "mimetype": "text/x-python",
   "name": "python",
   "nbconvert_exporter": "python",
   "pygments_lexer": "ipython3",
   "version": "3.9.0"
  },
  "toc-autonumbering": true,
  "toc-showmarkdowntxt": true
 },
 "nbformat": 4,
 "nbformat_minor": 5
}
